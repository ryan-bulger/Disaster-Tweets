{
  "cells": [
    {
      "cell_type": "markdown",
      "id": "c4a1447f",
      "metadata": {
        "id": "c4a1447f"
      },
      "source": [
        "# Disaster Tweet Classification with RNN (LSTM/GRU)\n",
        "\n",
        "This project is **Natural Language Processing with Disaster Tweets** using recurrent neural networks. The objective is to predict whether a tweet refers to an actual disaster. The official training set contains **7613** tweets, each with an identifier (`id`), optional `keyword` and `location`, the `text` of the tweet, and a binary `target` indicating whether it describes a disaster (1) or not (0). The test set contains **3263** tweets without `target` labels.  The dataset is drawn from Kaggle’s *NLP with Disaster Tweets* competition.\n",
        "\n",
        "Kaggle reference (APA format):\n",
        "\n",
        "> Kaggle. (2020). *Natural Language Processing with Disaster Tweets* [Data set]. Kaggle. https://www.kaggle.com/competitions/nlp-getting-started/data\n"
      ]
    },
    {
      "cell_type": "code",
      "execution_count": null,
      "id": "5e8340b5",
      "metadata": {
        "id": "5e8340b5"
      },
      "outputs": [],
      "source": [
        "import os\n",
        "import pandas as pd\n",
        "import numpy as np\n",
        "from wordcloud import WordCloud\n",
        "import matplotlib.pyplot as plt\n",
        "from sklearn.model_selection import train_test_split\n",
        "from sklearn.metrics import accuracy_score, f1_score\n",
        "import tensorflow as tf\n",
        "from tensorflow.keras.preprocessing.text import Tokenizer\n",
        "from tensorflow.keras.preprocessing.sequence import pad_sequences\n",
        "from tensorflow.keras.models import Sequential\n",
        "from tensorflow.keras.layers import Embedding, LSTM, GRU, Bidirectional, Dense, Dropout\n",
        "from tensorflow.keras.callbacks import EarlyStopping, ModelCheckpoint\n",
        "import keras_tuner as kt"
      ]
    },
    {
      "cell_type": "markdown",
      "id": "b77a44a6",
      "metadata": {
        "id": "b77a44a6"
      },
      "source": [
        "## Data Summary\n",
        "- In the Kaggle dataset, there are **10,876** tweets with five columns: `id`, `keyword`, `location`, `text`, and `target`.\n",
        "- The dataset is already split into a train and test set. The training data has 7,613 rows and the testing data has 3,263 rows.\n",
        "- The `target` column is `1` for tweets describing disasters and `0` for non-disaster tweets.\n",
        "- The dataset includes a balanced mix of disaster and non‑disaster tweets (3,271 disaster tweets vs 4,342 non-disaster tweets).\n",
        "- Missing values occur in the `keyword` and `location` columns."
      ]
    },
    {
      "cell_type": "code",
      "execution_count": null,
      "id": "7847f750",
      "metadata": {
        "colab": {
          "base_uri": "https://localhost:8080/",
          "height": 423
        },
        "id": "7847f750",
        "outputId": "90ea774f-5e52-452f-a59a-a5464fabae81"
      },
      "outputs": [],
      "source": [
        "# Load train and test datasets\n",
        "train_df = pd.read_csv('train.csv')\n",
        "test_df = pd.read_csv('test.csv')\n",
        "\n",
        "# Concatenate to create full dataset\n",
        "df = pd.concat([train_df, test_df])\n",
        "df"
      ]
    },
    {
      "cell_type": "code",
      "execution_count": null,
      "id": "7cdcbc4d",
      "metadata": {
        "colab": {
          "base_uri": "https://localhost:8080/"
        },
        "id": "7cdcbc4d",
        "outputId": "6617566e-c596-4286-ccc0-37b8da0b70a6"
      },
      "outputs": [],
      "source": [
        "# Basic information about the dataset\n",
        "print('Number of rows:', df.shape[0])\n",
        "print('Number of columns:', df.shape[1])\n",
        "print('\\nData types:')\n",
        "print(df.dtypes)"
      ]
    },
    {
      "cell_type": "markdown",
      "id": "157713d6",
      "metadata": {
        "id": "157713d6"
      },
      "source": [
        "## Exploratory Data Analysis (EDA)\n",
        "\n",
        "I first explore the training dataset to understand its size, structure, and class distribution. Understanding class imbalance is important when evaluating model performance. I also check for missing values in the `keyword` and `location` fields and examine tweet lengths."
      ]
    },
    {
      "cell_type": "markdown",
      "id": "G2EMmcI7JeWd",
      "metadata": {
        "id": "G2EMmcI7JeWd"
      },
      "source": [
        "#### Target Class Distribution"
      ]
    },
    {
      "cell_type": "code",
      "execution_count": null,
      "id": "cabd6189",
      "metadata": {
        "colab": {
          "base_uri": "https://localhost:8080/",
          "height": 502
        },
        "id": "cabd6189",
        "outputId": "f222326d-fbec-4ca6-c55b-8659a45f777e"
      },
      "outputs": [],
      "source": [
        "# Target class distribution\n",
        "print('Target class distribution (0=non-disaster, 1=disaster):')\n",
        "print(df['target'].value_counts(), '\\n')\n",
        "\n",
        "# Plot distribution\n",
        "counts = df['target'].value_counts().sort_index()  # ensure order 0 then 1\n",
        "plt.figure(figsize=(6, 4))\n",
        "bars = plt.bar(\n",
        "    ['Non-disaster (0)', 'Disaster (1)'],\n",
        "    counts.values,\n",
        "    color=['skyblue', 'salmon'],\n",
        "    edgecolor='black'\n",
        ")\n",
        "plt.title('Count of Disaster vs Non-Disaster Tweets')\n",
        "plt.xticks(rotation=0)\n",
        "plt.show()"
      ]
    },
    {
      "cell_type": "markdown",
      "id": "rAWrLdCaKYc_",
      "metadata": {
        "id": "rAWrLdCaKYc_"
      },
      "source": [
        "> The target shows some class imbalance:  \n",
        ">   - Non-Disaster = 57% of target values\n",
        ">   - Disaster = 43% of target values"
      ]
    },
    {
      "cell_type": "markdown",
      "id": "a6s_akrBJjCN",
      "metadata": {
        "id": "a6s_akrBJjCN"
      },
      "source": [
        "#### MIssing Values"
      ]
    },
    {
      "cell_type": "code",
      "execution_count": null,
      "id": "1cb235e4",
      "metadata": {
        "colab": {
          "base_uri": "https://localhost:8080/"
        },
        "id": "1cb235e4",
        "outputId": "30d939b0-c926-4197-e647-f941094b7339"
      },
      "outputs": [],
      "source": [
        "print('Missing values per column:')\n",
        "print(df.isnull().sum(), '\\n')"
      ]
    },
    {
      "cell_type": "markdown",
      "id": "ab1e65f6",
      "metadata": {
        "id": "ab1e65f6"
      },
      "source": [
        "> Note: the `target` column has 3263 missing values because `test_df` doesn't include target values."
      ]
    },
    {
      "cell_type": "markdown",
      "id": "KfFQ4SlkJ19h",
      "metadata": {
        "id": "KfFQ4SlkJ19h"
      },
      "source": [
        "#### Word Count Distributions"
      ]
    },
    {
      "cell_type": "code",
      "execution_count": null,
      "id": "d3bdf6c2",
      "metadata": {
        "colab": {
          "base_uri": "https://localhost:8080/",
          "height": 413
        },
        "id": "d3bdf6c2",
        "outputId": "9086c6a5-76fe-4ebe-a07e-93228ed5191e"
      },
      "outputs": [],
      "source": [
        "# Add tweet length column\n",
        "train_df['length'] = train_df['text'].apply(lambda x: len(x.split()))\n",
        "\n",
        "# Create side-by-side histograms\n",
        "plt.figure(figsize=(10, 4))\n",
        "\n",
        "plt.subplot(1, 2, 1)\n",
        "train_df[train_df['target'] == 0]['length'].hist(bins=50, color='skyblue', edgecolor='grey')\n",
        "plt.title('Non-Disaster Tweets')\n",
        "plt.xlabel('Number of words per tweet')\n",
        "plt.ylabel('Frequency')\n",
        "\n",
        "plt.subplot(1, 2, 2)\n",
        "train_df[train_df['target'] == 1]['length'].hist(bins=50, color='salmon', edgecolor='grey')\n",
        "plt.title('Disaster Tweets')\n",
        "plt.xlabel('Number of words per tweet')\n",
        "plt.ylabel('Frequency')\n",
        "\n",
        "plt.suptitle('Distribution of Tweet Word Counts by Class', fontsize=14)\n",
        "plt.tight_layout()\n",
        "plt.show()"
      ]
    },
    {
      "cell_type": "markdown",
      "id": "dD38k7MuLJGr",
      "metadata": {
        "id": "dD38k7MuLJGr"
      },
      "source": [
        "> Both the Non-Disaster and Disaster tweets appear to be somewhat normally distributed."
      ]
    },
    {
      "cell_type": "markdown",
      "id": "2tT09QJCJ64O",
      "metadata": {
        "id": "2tT09QJCJ64O"
      },
      "source": [
        "#### Frequent Keywords"
      ]
    },
    {
      "cell_type": "code",
      "execution_count": null,
      "id": "62b07cd9",
      "metadata": {
        "colab": {
          "base_uri": "https://localhost:8080/",
          "height": 424
        },
        "id": "62b07cd9",
        "outputId": "181b4cf6-5b4a-4036-ca97-50465517d2f3"
      },
      "outputs": [],
      "source": [
        "# Replace '%20' with spaces\n",
        "df['keyword'] = df['keyword'].str.replace('%20', ' ')\n",
        "\n",
        "# Drop missing keywords and combine into a single string\n",
        "keywords_text = ' '.join(df['keyword'].dropna())\n",
        "\n",
        "# Generate word cloud\n",
        "wordcloud = WordCloud(\n",
        "    width=1200,\n",
        "    height=400,\n",
        "    background_color='white',\n",
        "    colormap='inferno',\n",
        "    max_words=1000,\n",
        "    collocations=False\n",
        ").generate(keywords_text)\n",
        "\n",
        "# Display the word cloud\n",
        "plt.figure(figsize=(15, 6))\n",
        "plt.imshow(wordcloud, interpolation='bilinear')\n",
        "plt.axis('off')\n",
        "plt.show()"
      ]
    },
    {
      "cell_type": "markdown",
      "id": "S-ULaOHvB7Od",
      "metadata": {
        "id": "S-ULaOHvB7Od"
      },
      "source": [
        "## RNN Model Architecture\n",
        "\n",
        "I'm testing two neural network architectures:\n",
        "\n",
        "1. **LSTM** model: Embedding → LSTM → Dense\n",
        "2. **Bidirectional GRU** model: Embedding → Bidirectional(GRU) → Dense\n",
        "\n",
        "Both models use an Embedding layer to learn word vectors during training. The models are compiled with the binary cross‑entropy loss and evaluated using accuracy and F1‑score. A validation split from the training data is used to monitor performance and prevent overfitting via early stopping."
      ]
    },
    {
      "cell_type": "markdown",
      "id": "aaab1bf2",
      "metadata": {
        "id": "aaab1bf2"
      },
      "source": [
        "#### Text Preprocessing\n",
        "\n",
        "I preprocess the text by cleaning and tokenizing. Using `tf.keras.preprocessing.text.Tokenizer`, I convert each tweet into a sequence of integer indices, keeping only the most frequent words. Sequences are padded to a uniform length using `tf.keras.preprocessing.sequence.pad_sequences`."
      ]
    },
    {
      "cell_type": "code",
      "execution_count": null,
      "id": "e8b1803d",
      "metadata": {
        "id": "e8b1803d"
      },
      "outputs": [],
      "source": [
        "# Convert text column\n",
        "train_df['text'] = train_df['text'].astype(str)\n",
        "test_df['text'] = test_df['text'].astype(str)\n",
        "\n",
        "# Tokenization\n",
        "max_words = 20000  # vocabulary size\n",
        "max_len = 30       # maximum sequence length\n",
        "\n",
        "# Fit tokenizer on training text\n",
        "tokenizer = Tokenizer(num_words=max_words, oov_token='<OOV>')\n",
        "tokenizer.fit_on_texts(train_df['text'])\n",
        "\n",
        "# Convert text to sequences\n",
        "X = tokenizer.texts_to_sequences(train_df['text'])\n",
        "X_test_seq = tokenizer.texts_to_sequences(test_df['text'])\n",
        "\n",
        "# Pad sequences\n",
        "X = pad_sequences(X, maxlen=max_len, padding='post', truncating='post')\n",
        "X_test_seq = pad_sequences(X_test_seq, maxlen=max_len, padding='post', truncating='post')\n",
        "\n",
        "y = train_df['target'].values\n",
        "\n",
        "# Split into train and validation sets\n",
        "X_train, X_val, y_train, y_val = train_test_split(X, y, test_size=0.2, stratify=y, random_state=42)\n",
        "\n",
        "# Define model architectures\n",
        "embedding_dim = 64\n",
        "\n",
        "# Set random seed\n",
        "tf.random.set_seed(666)"
      ]
    },
    {
      "cell_type": "markdown",
      "id": "iiU_PCI29921",
      "metadata": {
        "id": "iiU_PCI29921"
      },
      "source": [
        "#### LSTM Model"
      ]
    },
    {
      "cell_type": "code",
      "execution_count": null,
      "id": "ar0_A-hOA_O-",
      "metadata": {
        "colab": {
          "base_uri": "https://localhost:8080/",
          "height": 271
        },
        "id": "ar0_A-hOA_O-",
        "outputId": "f21a63a9-2148-4a17-8359-d76dec5639ea"
      },
      "outputs": [],
      "source": [
        "# LSTM model\n",
        "lstm_model = Sequential([\n",
        "    Embedding(max_words, embedding_dim),\n",
        "    LSTM(64, dropout=0.2, recurrent_dropout=0.2),\n",
        "    Dense(1, activation='sigmoid')\n",
        "])\n",
        "lstm_model.compile(optimizer='adam', loss='binary_crossentropy', metrics=['accuracy'])\n",
        "lstm_model.build((None, max_len))\n",
        "lstm_model.summary()"
      ]
    },
    {
      "cell_type": "code",
      "execution_count": null,
      "id": "vm_aaaty7n4C",
      "metadata": {
        "colab": {
          "base_uri": "https://localhost:8080/"
        },
        "id": "vm_aaaty7n4C",
        "outputId": "f22df43d-b16b-4a48-8441-99cbc4be17f6"
      },
      "outputs": [],
      "source": [
        "# Fit LSTM model\n",
        "lstm_history = lstm_model.fit(\n",
        "    X_train,\n",
        "    y_train,\n",
        "    epochs=5,\n",
        "    batch_size=64,\n",
        "    validation_data=(X_val, y_val),\n",
        "    callbacks=EarlyStopping(monitor='val_loss', patience=2, restore_best_weights=True)\n",
        ")\n",
        "\n",
        "# Evaluate on validation set\n",
        "lstm_val_pred = (lstm_model.predict(X_val) > 0.5).astype(int)\n",
        "lstm_accuracy = accuracy_score(y_val, lstm_val_pred)\n",
        "lstm_f1 = f1_score(y_val, lstm_val_pred)\n",
        "print(f'LSTM Validation Accuracy: {lstm_accuracy:.4f}')\n",
        "print(f'LSTM Validation F1: {lstm_f1:.4f}')"
      ]
    },
    {
      "cell_type": "markdown",
      "id": "8f0G7E8m-B_1",
      "metadata": {
        "id": "8f0G7E8m-B_1"
      },
      "source": [
        "#### Bidirectional GRU Model\n"
      ]
    },
    {
      "cell_type": "code",
      "execution_count": null,
      "id": "D54LsxRlBFfF",
      "metadata": {
        "colab": {
          "base_uri": "https://localhost:8080/",
          "height": 234
        },
        "id": "D54LsxRlBFfF",
        "outputId": "c7e02eb9-505b-463d-af6f-424410cccbab"
      },
      "outputs": [],
      "source": [
        "# Bidirectional GRU model\n",
        "gru_model = Sequential([\n",
        "    Embedding(max_words, embedding_dim),\n",
        "    Bidirectional(GRU(64, dropout=0.2, recurrent_dropout=0.2)),\n",
        "    Dense(1, activation='sigmoid')\n",
        "])\n",
        "gru_model.compile(optimizer='adam', loss='binary_crossentropy', metrics=['accuracy'])\n",
        "gru_model.build((None, max_len))\n",
        "gru_model.summary()"
      ]
    },
    {
      "cell_type": "code",
      "execution_count": null,
      "id": "SjZHPalu-glL",
      "metadata": {
        "colab": {
          "base_uri": "https://localhost:8080/"
        },
        "id": "SjZHPalu-glL",
        "outputId": "20636012-a850-4756-fcc4-c940b8ea73f5"
      },
      "outputs": [],
      "source": [
        "# Fit GRU model\n",
        "gru_history = gru_model.fit(\n",
        "    X_train,\n",
        "    y_train,\n",
        "    epochs=5,\n",
        "    batch_size=64,\n",
        "    validation_data=(X_val, y_val),\n",
        "    callbacks=EarlyStopping(monitor='val_loss', patience=2, restore_best_weights=True)\n",
        ")\n",
        "\n",
        "# Evaluate GRU\n",
        "gru_val_pred = (gru_model.predict(X_val) > 0.5).astype(int)\n",
        "gru_accuracy = accuracy_score(y_val, gru_val_pred)\n",
        "gru_f1 = f1_score(y_val, gru_val_pred)\n",
        "print(f'Bidirectional GRU Validation Accuracy: {gru_accuracy:.4f}')\n",
        "print(f'Bidirectional GRU Validation F1: {gru_f1:.4f}')"
      ]
    },
    {
      "cell_type": "markdown",
      "id": "3c9ca03d",
      "metadata": {
        "id": "3c9ca03d"
      },
      "source": [
        "#### LSTM Model (Hyperparameter Tuned)\n"
      ]
    },
    {
      "cell_type": "code",
      "execution_count": null,
      "id": "lCFUf-TP94r1",
      "metadata": {
        "colab": {
          "base_uri": "https://localhost:8080/"
        },
        "id": "lCFUf-TP94r1",
        "outputId": "078d523b-6f40-4685-e084-5f86c0dffa23"
      },
      "outputs": [],
      "source": [
        "def build_lstm_model(hp):\n",
        "    model = Sequential()\n",
        "    model.add(Embedding(max_words, hp.Int('embedding_dim', min_value=32, max_value=128, step=32)))\n",
        "    model.add(LSTM(\n",
        "        hp.Int('lstm_units', min_value=32, max_value=128, step=32),\n",
        "        dropout=hp.Float('dropout', min_value=0.1, max_value=0.5, step=0.1),\n",
        "        recurrent_dropout=hp.Float('recurrent_dropout',min_value=0.1, max_value=0.5, step=0.1)\n",
        "    ))\n",
        "    model.add(Dense(1, activation='sigmoid'))\n",
        "    model.compile(optimizer='adam', loss='binary_crossentropy', metrics=['accuracy'])\n",
        "    return model\n",
        "\n",
        "# Instantiate the tuner for LSTM\n",
        "lstm_tuner = kt.Hyperband(\n",
        "    build_lstm_model,\n",
        "    objective='val_accuracy',\n",
        "    max_epochs=5,\n",
        "    factor=3,\n",
        "    directory='my_dir',\n",
        "    project_name='lstm_tuning'\n",
        ")\n",
        "\n",
        "# Run the search for LSTM\n",
        "print(\"Running KerasTuner search for LSTM model...\")\n",
        "lstm_tuner.search(X_train, y_train, validation_data=(X_val, y_val), epochs=5, callbacks=[EarlyStopping(monitor='val_loss', patience=2)])\n",
        "\n",
        "# Get the best LSTM model\n",
        "best_lstm_model = lstm_tuner.get_best_models(num_models=1)[0]\n",
        "\n",
        "# Evaluate the best LSTM model\n",
        "lstm_val_pred = (best_lstm_model.predict(X_val) > 0.5).astype(int)\n",
        "lstm_accuracy = accuracy_score(y_val, lstm_val_pred)\n",
        "lstm_f1 = f1_score(y_val, lstm_val_pred)\n",
        "print(f'Best Hyperparameter Tuned LSTM Validation Accuracy: {lstm_accuracy:.4f}')\n",
        "print(f'Best Hyperparameter Tuned LSTM Validation F1: {lstm_f1:.4f}')"
      ]
    },
    {
      "cell_type": "markdown",
      "id": "l4oQ6Kj9BpG1",
      "metadata": {
        "id": "l4oQ6Kj9BpG1"
      },
      "source": [
        "#### Bidirectional GRU Model (Hyperparameter Tuned)"
      ]
    },
    {
      "cell_type": "code",
      "execution_count": null,
      "id": "cLfWbkDZ9s-U",
      "metadata": {
        "colab": {
          "base_uri": "https://localhost:8080/"
        },
        "id": "cLfWbkDZ9s-U",
        "outputId": "f1bf02c1-904a-482a-c2cf-01f9d5affd29"
      },
      "outputs": [],
      "source": [
        "def build_gru_model(hp):\n",
        "    model = Sequential()\n",
        "    model.add(Embedding(max_words, hp.Int('embedding_dim', min_value=32, max_value=128, step=32)))\n",
        "    model.add(Bidirectional(GRU(\n",
        "        hp.Int('gru_units', min_value=32, max_value=128, step=32),\n",
        "        dropout=hp.Float('dropout', min_value=0.1, max_value=0.5, step=0.1),\n",
        "        recurrent_dropout=hp.Float('recurrent_dropout', min_value=0.1, max_value=0.5, step=0.1))\n",
        "    ))\n",
        "    model.add(Dense(1, activation='sigmoid'))\n",
        "    model.compile(optimizer='adam', loss='binary_crossentropy', metrics=['accuracy'])\n",
        "    return model\n",
        "\n",
        "# Instantiate the tuner for GRU\n",
        "gru_tuner = kt.Hyperband(\n",
        "    build_gru_model,\n",
        "    objective='val_accuracy',\n",
        "    max_epochs=5,\n",
        "    factor=3,\n",
        "    directory='my_dir',\n",
        "    project_name='gru_tuning'\n",
        ")\n",
        "\n",
        "# Run the search for GRU\n",
        "print(\"Running KerasTuner search for Bidirectional GRU model...\")\n",
        "gru_tuner.search(X_train, y_train, validation_data=(X_val, y_val), epochs=5, callbacks=[EarlyStopping(monitor='val_loss', patience=2)])\n",
        "\n",
        "# Get the best GRU model\n",
        "best_gru_model = gru_tuner.get_best_models(num_models=1)[0]\n",
        "\n",
        "# Evaluate the best GRU model\n",
        "gru_val_pred = (best_gru_model.predict(X_val) > 0.5).astype(int)\n",
        "gru_accuracy = accuracy_score(y_val, gru_val_pred)\n",
        "gru_f1 = f1_score(y_val, gru_val_pred)\n",
        "print(f'Best Hyperparameter Tuned Bidirectional GRU Validation Accuracy: {gru_accuracy:.4f}')\n",
        "print(f'Best Hyperparameter Tuned Bidirectional GRU Validation F1: {gru_f1:.4f}')"
      ]
    },
    {
      "cell_type": "markdown",
      "id": "99b57886",
      "metadata": {
        "id": "99b57886"
      },
      "source": [
        "## Model Result Summary\n",
        "\n",
        "| Model                                     | Accuracy | F1-score |\n",
        "| :---------------------------------------- | :------- | :------- |\n",
        "| LSTM                                      | 0.7991   | 0.7650   |\n",
        "| Bidirectional GRU                         | 0.7853   | 0.7419   |\n",
        "| Best Hyperparameter Tuned LSTM            | 0.8109   | 0.7632   |\n",
        "| Best Hyperparameter Tuned Bidirectional GRU | 0.8083   | 0.7618   |\n",
        "\n",
        "The hyperparameter-tuned LSTM model achieved the highest validation accuracy (0.8109), while the initial non-tuned LSTM model had the highest validation F1-score (0.7650). However, the difference in F1-scores between the tuned and non-tuned LSTM models is small (0.7632 vs 0.7650). Overall, hyperparameter tuning improved the accuracy of both models."
      ]
    },
    {
      "cell_type": "code",
      "execution_count": null,
      "id": "2zfOhexl9bBf",
      "metadata": {
        "colab": {
          "base_uri": "https://localhost:8080/"
        },
        "id": "2zfOhexl9bBf",
        "outputId": "f314b76e-cd4e-412d-a90d-c415943c4043"
      },
      "outputs": [],
      "source": [
        "# Define best model\n",
        "best_model = best_gru_model\n",
        "\n",
        "# Predict best model\n",
        "pred_test = (best_model.predict(X_test_seq) > 0.5).astype(int).flatten()\n",
        "\n",
        "# Create Kaggle submission dataframe\n",
        "submission = pd.DataFrame({'id': test_df['id'], 'target': pred_test})\n",
        "\n",
        "# Save to CSV (path can be changed for local use)\n",
        "submission_path = 'submission.csv'\n",
        "submission.to_csv(submission_path, index=False)\n",
        "print('Submission file saved to', submission_path)"
      ]
    },
    {
      "cell_type": "markdown",
      "id": "W0vJzZu8DmXj",
      "metadata": {
        "id": "W0vJzZu8DmXj"
      },
      "source": [
        "Kaggle results:  \n",
        "\n",
        "![image.png](data:image/png;base64,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)"
      ]
    },
    {
      "cell_type": "markdown",
      "id": "2e2267c6",
      "metadata": {
        "id": "2e2267c6"
      },
      "source": [
        "## Conclusion\n",
        "\n",
        "**Learnings:**  \n",
        "The hyperparameter-tuned LSTM model showed slightly better performance in both accuracy and F1-score compared to the tuned Bidirectional GRU model. Importantly, tuning with KerasTuner helped find better model configurations, improving performance over the initial models. The dataset has some class imbalance, making the F1-score a key metric for evaluating the model's ability to identify disaster tweets.  \n",
        "\n",
        "**What helped / did not help:**  \n",
        "Hyperparameter tuning was clearly beneficial for improving performance. Using the F1-score provided a better evaluation for the imbalanced data. The initial basic LSTM and Bidirectional GRU models had similar performance, and the commented-out keyword grouping was not utilized in the final models, so their impact is unknown.  \n",
        "\n",
        "**Future Improvements:**  \n",
        "To further improve the model, consider addressing class imbalance using techniques like oversampling, undersampling, or class weights. Exploring more advanced models such as stacked RNNs or Transformer models like BERT could also be beneficial. Refining text preprocessing and exploring better ways to incorporate keyword and location data through feature engineering are also potential avenues. Finally, conducting a more extensive hyperparameter search, considering ensembling multiple models, and performing error analysis on misclassified tweets can help identify and address weaknesses.\n"
      ]
    }
  ],
  "metadata": {
    "accelerator": "GPU",
    "colab": {
      "gpuType": "T4",
      "provenance": []
    },
    "kernelspec": {
      "display_name": "Python 3",
      "name": "python3"
    },
    "language_info": {
      "codemirror_mode": {
        "name": "ipython",
        "version": 3
      },
      "file_extension": ".py",
      "mimetype": "text/x-python",
      "name": "python",
      "nbconvert_exporter": "python",
      "pygments_lexer": "ipython3",
      "version": "3.12.3"
    }
  },
  "nbformat": 4,
  "nbformat_minor": 5
}
