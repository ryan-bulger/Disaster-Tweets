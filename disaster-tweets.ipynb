{
 "cells": [
  {
   "cell_type": "markdown",
   "id": "799e8b95",
   "metadata": {},
   "source": [
    "https://www.kaggle.com/competitions/nlp-getting-started/data\n",
    "\n",
    "Step 1:\n",
    "- Brief description of the problem and data\n",
    "- Briefly describe the challenge problem and NLP. \n",
    "- Describe the size, dimension, structure, etc., of the data. \n",
    "\n",
    "Step 2:\n",
    "- Exploratory Data Analysis (EDA)\n",
    "- Inspect, Visualize and Clean the Data\n",
    "- Show a few visualizations like histograms.\n",
    "- Describe any data cleaning procedures.\n",
    "- Based on your EDA, what is your plan of analysis?\n",
    "\n",
    "Step 3:\n",
    "- Model Architecture\n",
    "- Describe your model architecture and reasoning for why you believe that specific architecture would be suitable for this problem. \n",
    "- Also importantly, please have a reference list at the end of the report.  \n",
    "- There are many methods to process texts to matrix form (word embedding), including TF-IDF, GloVe, Word2Vec, etc.\n",
    "- Pick a strategy and process the raw texts to word embedding. \n",
    "- Briefly explain the method(s) and how they work in your own words.\n",
    "- Build and train your sequential neural network model (You may use any RNN family neural network, including advanced architectures LSTM, GRU, bidirectional RNN, etc.). \n",
    "\n",
    "Step4:\n",
    "- Results and Analysis\n",
    "- Run hyperparameter tuning, try different architectures for comparison, apply techniques to improve training or performance, and discuss what helped.\n",
    "- Includes results with tables and figures.\n",
    "- Do an analysis of why or why not something worked well, troubleshooting, and a hyperparameter optimization procedure summary.\n",
    "\n",
    "Step 5:\n",
    "- Conclusion\n",
    "- Discuss and interpret results as well as learnings and takeaways.\n",
    "- What did and did not help improve the performance of your models?\n",
    "- What improvements could you try in the future?"
   ]
  },
  {
   "cell_type": "code",
   "execution_count": 1,
   "id": "4011e541",
   "metadata": {},
   "outputs": [],
   "source": [
    "import pandas as pd"
   ]
  }
 ],
 "metadata": {
  "kernelspec": {
   "display_name": "Python 3",
   "language": "python",
   "name": "python3"
  },
  "language_info": {
   "codemirror_mode": {
    "name": "ipython",
    "version": 3
   },
   "file_extension": ".py",
   "mimetype": "text/x-python",
   "name": "python",
   "nbconvert_exporter": "python",
   "pygments_lexer": "ipython3",
   "version": "3.13.5"
  }
 },
 "nbformat": 4,
 "nbformat_minor": 5
}
